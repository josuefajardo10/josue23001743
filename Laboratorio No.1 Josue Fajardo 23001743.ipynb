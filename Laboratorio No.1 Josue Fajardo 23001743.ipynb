{
 "cells": [
  {
   "cell_type": "markdown",
   "id": "3eb7a484-9270-49f9-bc2c-d257e7e0a26a",
   "metadata": {},
   "source": [
    "## ¿Qué es Git?"
   ]
  },
  {
   "cell_type": "markdown",
   "id": "afc0194d-ca1a-4850-adf5-d9e38c2186e7",
   "metadata": {
    "tags": []
   },
   "source": [
    "#### Git es un sistema de control de versiones distribuido, lo que significa que un clon local del proyecto es un repositorio de control de versiones completo. Estos repositorios locales plenamente funcionales permiten trabajar sin conexión o de forma remota con facilidad. Los desarrolladores confirman su trabajo localmente y, a continuación, sincronizan la copia del repositorio con la del servidor. Este paradigma es distinto del control de versiones centralizado, donde los clientes deben sincronizar el código con un servidor antes de crear nuevas versiones. \n",
    "\n",
    "### Aspectos básicos de Git\n",
    "#### Cada vez que se guarda el trabajo, Git crea una confirmación. Una confirmación es una instantánea de todos los archivos en un momento dado. Si un archivo no ha cambiado de una confirmación a la siguiente, Git usa el archivo almacenado anteriormente. Este diseño difiere de otros sistemas que almacenan una versión inicial de un archivo y mantienen un registro de las diferencias a lo largo del tiempo. Las confirmaciones crean vínculos a otras confirmaciones, formando un gráfico del historial de desarrollo. Es posible revertir el código a una confirmación anterior, inspeccionar cómo cambian los archivos de una confirmación a la siguiente y revisar información como dónde y cuándo se realizaron los cambios. Las confirmaciones se identifican en Git mediante un hash criptográfico único del contenido de la confirmación. Dado que todo tiene hash, es imposible realizar cambios, perder la información o dañar los archivos sin que Git lo detecte.\n",
    "\n",
    "### Ramas\n",
    "#### Cada desarrollador guarda los cambios en su propio repositorio de código local. Como resultado, puede haber muchos cambios diferentes basados en la misma confirmación. Git proporciona herramientas para aislar los cambios y volver a combinarlos posteriormente. Las ramas, que son punteros ligeros para el trabajo en curso, administran esta separación. Una vez finalizado el trabajo creado en una rama, se puede combinar de nuevo en la rama principal (o troncal) del equipo.\n",
    "\n",
    "### Archivos y Confirmaciones\n",
    "#### Los archivos de Git se encuentran en uno de estos tres estados: modificados, almacenados provisionalmente o confirmados. Cuando se modifica un archivo por primera vez, los cambios solo existen en el directorio de trabajo. Todavía no forman parte de una confirmación ni del historial de desarrollo. El desarrollador debe almacenar provisionalmente los archivos modificados que se incluirán en la confirmación. El área de almacenamiento provisional contiene todos los cambios que se incluirán en la siguiente confirmación. Una vez que el desarrollador esté satisfecho con los archivos almacenados provisionalmente, los archivos se empaquetan como una confirmación con un mensaje que describe lo que ha cambiado. Esta confirmación pasa a formar parte del historial de desarrollo. El almacenamiento provisional permite a los desarrolladores elegir qué cambios de archivo se guardarán en una confirmación para desglosar los cambios grandes en una serie de confirmaciones más pequeñas. Al reducir el ámbito de las confirmaciones, es más fácil revisar el historial de confirmaciones para buscar cambios de archivo específicos."
   ]
  },
  {
   "cell_type": "markdown",
   "id": "70383df1-1e3f-4e50-b85e-4180b76c04c4",
   "metadata": {
    "tags": []
   },
   "source": [
    "## ¿Qué es Github?"
   ]
  },
  {
   "cell_type": "markdown",
   "id": "3034deb0-5067-47c1-967e-154d5904f745",
   "metadata": {},
   "source": [
    "#### GitHub es una plataforma de desarrollo colaborativo basada en la web que utiliza el sistema de control de versiones Git. Fue lanzada en 2008 y se ha convertido en uno de los principales servicios para alojar proyectos de software y facilitar la colaboración entre desarrolladores.\n",
    "\n",
    "#### Algunas de las características clave de GitHub son:\n",
    "\n",
    "#### 1. **Alojamiento de Repositorios**: GitHub permite a los usuarios alojar repositorios de código en la nube de forma gratuita. Estos repositorios pueden ser públicos, lo que significa que cualquiera puede ver y contribuir al código, o privados, en los que el acceso está restringido a colaboradores autorizados.\n",
    "\n",
    "#### 2. **Control de Versiones**: GitHub utiliza el sistema de control de versiones distribuido Git, lo que permite a los desarrolladores realizar un seguimiento de los cambios en su código a lo largo del tiempo. Esto facilita la colaboración en proyectos, ya que múltiples personas pueden trabajar en el mismo código simultáneamente y fusionar sus cambios de manera ordenada.\n",
    "\n",
    "#### 3. **Gestión de Problemas y Seguimiento de Proyectos**: GitHub proporciona herramientas para gestionar problemas (bugs, solicitudes de características, etc.) y realizar un seguimiento del progreso del proyecto a través de tableros de tareas y otras funciones de gestión de proyectos.\n",
    "\n",
    "#### 4. **Colaboración**: GitHub facilita la colaboración entre desarrolladores mediante características como solicitudes de extracción (pull requests), que permiten a los colaboradores proponer cambios en el código y solicitar que sean revisados y fusionados por los propietarios del repositorio.\n",
    "\n",
    "#### 5. **Integración Continua y Despliegue Continuo (CI/CD)**: GitHub integra herramientas de CI/CD que permiten automatizar pruebas, construcciones y despliegues de aplicaciones directamente desde el repositorio.\n"
   ]
  },
  {
   "cell_type": "markdown",
   "id": "4a93ab1f-4f76-4696-a57c-0b4cd9888f31",
   "metadata": {},
   "source": [
    "## Magic Cells"
   ]
  },
  {
   "cell_type": "markdown",
   "id": "af7a3798-130e-4a70-ac60-fbef18b5faa1",
   "metadata": {},
   "source": [
    "#### En el contexto de Python, especialmente cuando se trabaja con Jupyter Notebooks o entornos similares, como Google Colab, las \"magic cells\" se refieren a comandos especiales que pueden ser utilizados en las celdas de código para realizar acciones específicas o habilitar funcionalidades adicionales.\n",
    "\n",
    "#### Las \"magic cells\" se distinguen por comenzar con un prefijo especial, que generalmente es un signo de porcentaje (%). Estos comandos son proporcionados por la biblioteca IPython, que es la versión mejorada de Python que se utiliza en los entornos interactivos como Jupyter Notebooks.\n",
    "\n",
    "#### Algunos ejemplos comunes de \"magic cells\" en Python incluyen:\n",
    "\n",
    "#### - %matplotlib: Permite la visualización de gráficos creados con la biblioteca Matplotlib dentro del Jupyter Notebook.\n",
    "#### - %timeit: Mide el tiempo de ejecución de una línea de código o de una función.\n",
    "#### - %load: Carga el contenido de un archivo externo en una celda de código.\n",
    "#### - %run: Ejecuta un script de Python.\n",
    "#### - %reset: Restablece el espacio de "
   ]
  },
  {
   "cell_type": "markdown",
   "id": "0eab9c02-e96f-45ff-88c7-2b930a3dd9ae",
   "metadata": {},
   "source": [
    "## Link - Repositorio de Github"
   ]
  },
  {
   "cell_type": "code",
   "execution_count": 13,
   "id": "8d7849d8-e7a7-46a7-adf1-8ae55d1542bf",
   "metadata": {
    "tags": []
   },
   "outputs": [
    {
     "data": {
      "text/html": [
       "<a href=\"https://github.com/josuefajardo10/josue23001743.git\">Link al repositorio de GitHub</a>\n"
      ],
      "text/plain": [
       "<IPython.core.display.HTML object>"
      ]
     },
     "metadata": {},
     "output_type": "display_data"
    }
   ],
   "source": [
    "%%html\n",
    "<a href=\"https://github.com/josuefajardo10/josue23001743.git\">Link al repositorio de GitHub</a>"
   ]
  }
 ],
 "metadata": {
  "kernelspec": {
   "display_name": "Python 3 (ipykernel)",
   "language": "python",
   "name": "python3"
  },
  "language_info": {
   "codemirror_mode": {
    "name": "ipython",
    "version": 3
   },
   "file_extension": ".py",
   "mimetype": "text/x-python",
   "name": "python",
   "nbconvert_exporter": "python",
   "pygments_lexer": "ipython3",
   "version": "3.11.5"
  }
 },
 "nbformat": 4,
 "nbformat_minor": 5
}
