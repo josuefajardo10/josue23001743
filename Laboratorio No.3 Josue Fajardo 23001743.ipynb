{
 "cells": [
  {
   "cell_type": "code",
   "execution_count": 1,
   "id": "af91a2ed-18aa-4deb-89ea-de7637da150b",
   "metadata": {
    "tags": []
   },
   "outputs": [],
   "source": [
    "import numpy as np\n",
    "import pandas as pd\n",
    "import matplotlib.pyplot as plt"
   ]
  },
  {
   "cell_type": "markdown",
   "id": "7c010173-4c2b-4181-ad4f-9c518fb53633",
   "metadata": {},
   "source": [
    "## Parte 1 Numpy"
   ]
  },
  {
   "cell_type": "markdown",
   "id": "ac27630a-6945-4669-8e60-e139324ea88f",
   "metadata": {},
   "source": [
    "1) ¿Cuál es el tamaño en bytes de un array de 1000 elementos de tipo booleano?"
   ]
  },
  {
   "cell_type": "code",
   "execution_count": 7,
   "id": "6aded9ff-4aa3-43e5-8146-80202370bda2",
   "metadata": {
    "tags": []
   },
   "outputs": [
    {
     "data": {
      "text/plain": [
       "1000"
      ]
     },
     "execution_count": 7,
     "metadata": {},
     "output_type": "execute_result"
    }
   ],
   "source": [
    "array1 = np.full(1000, False, dtype=bool)\n",
    "array1.nbytes\n",
    "# R// el tamaño del array de 1000 elementos de tipo booleano es de 1000 bytes. "
   ]
  },
  {
   "cell_type": "markdown",
   "id": "c3e596e4-5e23-4844-8a09-f381f9e88730",
   "metadata": {},
   "source": [
    "2) Cree un array cuyos elementos sean los enteros pares en [1,100] y en orden decreciente. Muestre los 10 últimos por pantalla."
   ]
  },
  {
   "cell_type": "code",
   "execution_count": 9,
   "id": "631111e7-cd4c-4c4a-b7a4-75e55561bb44",
   "metadata": {
    "tags": []
   },
   "outputs": [
    {
     "data": {
      "text/plain": [
       "array([20, 18, 16, 14, 12, 10,  8,  6,  4,  2])"
      ]
     },
     "execution_count": 9,
     "metadata": {},
     "output_type": "execute_result"
    }
   ],
   "source": [
    "array2 = np.arange(100,1,-2)\n",
    "array2[-10:]"
   ]
  },
  {
   "cell_type": "markdown",
   "id": "a4cd6310-4a38-490d-aad0-c3cce8e4e4d8",
   "metadata": {},
   "source": [
    "3) Dado el array"
   ]
  },
  {
   "cell_type": "code",
   "execution_count": 27,
   "id": "df7dad33-0f74-44af-a09d-815896039381",
   "metadata": {
    "tags": []
   },
   "outputs": [
    {
     "data": {
      "text/plain": [
       "array([[2, 4, 5, 6],\n",
       "       [0, 3, 7, 4],\n",
       "       [8, 8, 5, 2],\n",
       "       [1, 5, 6, 1]])"
      ]
     },
     "execution_count": 27,
     "metadata": {},
     "output_type": "execute_result"
    }
   ],
   "source": [
    "array3 = np.array([[2,4,5,6],[0,3,7,4],[8,8,5,2],[1,5,6,1]])\n",
    "array3"
   ]
  },
  {
   "cell_type": "code",
   "execution_count": 29,
   "id": "261d85d3-fd00-4fe7-8316-2b8d133ee2a1",
   "metadata": {
    "tags": []
   },
   "outputs": [
    {
     "data": {
      "text/plain": [
       "array([0, 3, 7, 4])"
      ]
     },
     "execution_count": 29,
     "metadata": {},
     "output_type": "execute_result"
    }
   ],
   "source": [
    "array3[1]"
   ]
  },
  {
   "cell_type": "code",
   "execution_count": 38,
   "id": "a6c1b09b-e48d-4106-bb09-6d19dae6c0f3",
   "metadata": {
    "tags": []
   },
   "outputs": [
    {
     "data": {
      "text/plain": [
       "array([[2, 5],\n",
       "       [8, 5]])"
      ]
     },
     "execution_count": 38,
     "metadata": {},
     "output_type": "execute_result"
    }
   ],
   "source": [
    "array3[[0, 2]][:, [0, 2]]"
   ]
  },
  {
   "cell_type": "markdown",
   "id": "b9e66b5b-4cd5-421b-a335-f8ce1d6df050",
   "metadata": {},
   "source": [
    "4) Dados los arrays a = [1, 4, 2, 7] y b = [1, 3, 2, 9], obtenga la media aritmética de la diferencia (a-b)."
   ]
  },
  {
   "cell_type": "code",
   "execution_count": 42,
   "id": "deda5016-ba7c-42e5-8adf-6a7b8d7f9aba",
   "metadata": {
    "tags": []
   },
   "outputs": [
    {
     "name": "stdout",
     "output_type": "stream",
     "text": [
      "La media aritmética de la diferencia entre a y b es: -0.25\n"
     ]
    }
   ],
   "source": [
    "a = np.array([1, 4, 2, 7])\n",
    "b = np.array([1, 3, 2, 9])\n",
    "\n",
    "diferencia = a - b\n",
    "media = np.mean(diferencia)\n",
    "print(f\"La media aritmética de la diferencia entre a y b es: {media}\")"
   ]
  },
  {
   "cell_type": "markdown",
   "id": "8f4fe090-dca8-439f-9e11-d9e07ebf2cc2",
   "metadata": {},
   "source": [
    "5) Tengo valores de cordenadas (x, y) en las columnas del array\n",
    "1.33 4.5\n",
    "30.0 10.7\n",
    "70.2 0.5"
   ]
  },
  {
   "cell_type": "code",
   "execution_count": 67,
   "id": "220f7fd6-2bc7-4859-82db-543c96f48326",
   "metadata": {
    "tags": []
   },
   "outputs": [],
   "source": [
    "array4 =np.array([[1.33, 4.5],[30.0, 10.7],[70.2, 0.5]], dtype =float)\n",
    "agregar_array = np.array([37.1, -3.6])\n",
    "nuevo_array4 = np.vstack([array4, agregar_array])"
   ]
  },
  {
   "cell_type": "code",
   "execution_count": 68,
   "id": "16e206e0-1cf8-4b94-9cfc-4547114fac14",
   "metadata": {
    "tags": []
   },
   "outputs": [
    {
     "data": {
      "text/plain": [
       "(4, 2)"
      ]
     },
     "execution_count": 68,
     "metadata": {},
     "output_type": "execute_result"
    }
   ],
   "source": [
    "nuevo_array4.shape"
   ]
  },
  {
   "cell_type": "markdown",
   "id": "ac1af91e-600f-4579-b59d-0b05f9b26905",
   "metadata": {},
   "source": [
    "6) Copie el array del ejercicio anterior. Traspóngalo (. Agregue ahora dos nuevos pares de coordenadas: (10.8,3.0) y (35.8, 12.0)."
   ]
  },
  {
   "cell_type": "code",
   "execution_count": 103,
   "id": "8fcc0ebf-368f-42a1-9756-8d8e256e2a01",
   "metadata": {
    "tags": []
   },
   "outputs": [
    {
     "data": {
      "text/plain": [
       "array([[ 1.33, 30.  , 70.2 , 37.1 ],\n",
       "       [ 4.5 , 10.7 ,  0.5 , -3.6 ]])"
      ]
     },
     "execution_count": 103,
     "metadata": {},
     "output_type": "execute_result"
    }
   ],
   "source": [
    "transponer_array = nuevo_array4.T\n",
    "transponer_array"
   ]
  },
  {
   "cell_type": "code",
   "execution_count": 113,
   "id": "6f1e7433-f187-46cf-9449-ff20c1d9a112",
   "metadata": {
    "tags": []
   },
   "outputs": [
    {
     "data": {
      "text/plain": [
       "array([[ 1.33, 30.  , 70.2 , 37.1 , 10.8 , 35.8 ],\n",
       "       [ 4.5 , 10.7 ,  0.5 , -3.6 ,  3.  , 12.  ]])"
      ]
     },
     "execution_count": 113,
     "metadata": {},
     "output_type": "execute_result"
    }
   ],
   "source": [
    "nuevas_coordenadas = np.array([[10.8,3.0],[35.8,12.0]])\n",
    "array5 = np.hstack([transponer_array,nuevas_coordenadas.T])\n",
    "array5"
   ]
  },
  {
   "cell_type": "markdown",
   "id": "56560d98-e689-49b1-86e2-4ed589612bfe",
   "metadata": {},
   "source": [
    "## Parte 2 Exploración y minería de datos"
   ]
  },
  {
   "cell_type": "code",
   "execution_count": 115,
   "id": "7fb822ed-cc23-453f-9eb0-411a6e5abd81",
   "metadata": {
    "tags": []
   },
   "outputs": [
    {
     "data": {
      "text/html": [
       "<div>\n",
       "<style scoped>\n",
       "    .dataframe tbody tr th:only-of-type {\n",
       "        vertical-align: middle;\n",
       "    }\n",
       "\n",
       "    .dataframe tbody tr th {\n",
       "        vertical-align: top;\n",
       "    }\n",
       "\n",
       "    .dataframe thead th {\n",
       "        text-align: right;\n",
       "    }\n",
       "</style>\n",
       "<table border=\"1\" class=\"dataframe\">\n",
       "  <thead>\n",
       "    <tr style=\"text-align: right;\">\n",
       "      <th></th>\n",
       "      <th>FID</th>\n",
       "      <th>OBJECTID</th>\n",
       "      <th>Texto</th>\n",
       "      <th>Poblacion</th>\n",
       "      <th>CodMun</th>\n",
       "      <th>Municipio</th>\n",
       "      <th>CodProvin</th>\n",
       "      <th>Provincia</th>\n",
       "      <th>X</th>\n",
       "      <th>Y</th>\n",
       "    </tr>\n",
       "  </thead>\n",
       "  <tbody>\n",
       "    <tr>\n",
       "      <th>0</th>\n",
       "      <td>0</td>\n",
       "      <td>1</td>\n",
       "      <td>Agüimes</td>\n",
       "      <td>29431.0</td>\n",
       "      <td>35002</td>\n",
       "      <td>Agüimes</td>\n",
       "      <td>35</td>\n",
       "      <td>Las Palmas</td>\n",
       "      <td>-15.446012</td>\n",
       "      <td>27.900542</td>\n",
       "    </tr>\n",
       "    <tr>\n",
       "      <th>1</th>\n",
       "      <td>1</td>\n",
       "      <td>2</td>\n",
       "      <td>Antigua</td>\n",
       "      <td>10458.0</td>\n",
       "      <td>35003</td>\n",
       "      <td>Antigua</td>\n",
       "      <td>35</td>\n",
       "      <td>Las Palmas</td>\n",
       "      <td>-14.013301</td>\n",
       "      <td>28.418966</td>\n",
       "    </tr>\n",
       "    <tr>\n",
       "      <th>2</th>\n",
       "      <td>2</td>\n",
       "      <td>3</td>\n",
       "      <td>Arrecife</td>\n",
       "      <td>58156.0</td>\n",
       "      <td>35004</td>\n",
       "      <td>Arrecife</td>\n",
       "      <td>35</td>\n",
       "      <td>Las Palmas</td>\n",
       "      <td>-13.551451</td>\n",
       "      <td>28.960649</td>\n",
       "    </tr>\n",
       "    <tr>\n",
       "      <th>3</th>\n",
       "      <td>3</td>\n",
       "      <td>4</td>\n",
       "      <td>Arucas</td>\n",
       "      <td>36745.0</td>\n",
       "      <td>35006</td>\n",
       "      <td>Arucas</td>\n",
       "      <td>35</td>\n",
       "      <td>Las Palmas</td>\n",
       "      <td>-15.521512</td>\n",
       "      <td>28.117496</td>\n",
       "    </tr>\n",
       "    <tr>\n",
       "      <th>4</th>\n",
       "      <td>4</td>\n",
       "      <td>5</td>\n",
       "      <td>Gáldar</td>\n",
       "      <td>24473.0</td>\n",
       "      <td>35009</td>\n",
       "      <td>Gáldar</td>\n",
       "      <td>35</td>\n",
       "      <td>Las Palmas</td>\n",
       "      <td>-15.654111</td>\n",
       "      <td>28.143873</td>\n",
       "    </tr>\n",
       "  </tbody>\n",
       "</table>\n",
       "</div>"
      ],
      "text/plain": [
       "   FID  OBJECTID     Texto  Poblacion  CodMun Municipio  CodProvin  \\\n",
       "0    0         1   Agüimes    29431.0   35002   Agüimes         35   \n",
       "1    1         2   Antigua    10458.0   35003   Antigua         35   \n",
       "2    2         3  Arrecife    58156.0   35004  Arrecife         35   \n",
       "3    3         4    Arucas    36745.0   35006    Arucas         35   \n",
       "4    4         5    Gáldar    24473.0   35009    Gáldar         35   \n",
       "\n",
       "    Provincia          X          Y  \n",
       "0  Las Palmas -15.446012  27.900542  \n",
       "1  Las Palmas -14.013301  28.418966  \n",
       "2  Las Palmas -13.551451  28.960649  \n",
       "3  Las Palmas -15.521512  28.117496  \n",
       "4  Las Palmas -15.654111  28.143873  "
      ]
     },
     "execution_count": 115,
     "metadata": {},
     "output_type": "execute_result"
    }
   ],
   "source": [
    "dataset = pd.read_csv(\"NucleosPoblacion.csv\")\n",
    "dataset.head()"
   ]
  },
  {
   "cell_type": "markdown",
   "id": "dd8fe495-7e8a-43cb-bbe7-80d0f9b63a6e",
   "metadata": {},
   "source": [
    "1) ¿Cuántos Municipios tienen más de 100,000 habitantes?"
   ]
  },
  {
   "cell_type": "code",
   "execution_count": 149,
   "id": "54cb5cf5-ee6c-4844-887a-4fddb938275c",
   "metadata": {
    "tags": []
   },
   "outputs": [
    {
     "name": "stdout",
     "output_type": "stream",
     "text": [
      "R// Hay 62 municipios con una poblacion mayor a 100,000 habitantes\n"
     ]
    }
   ],
   "source": [
    "municipios_poblacion = dataset[dataset['Poblacion'] >= 100000]\n",
    "conteo = len(municipios_poblacion)\n",
    "print(f\"R// Hay {conteo} municipios con una poblacion mayor a 100,000 habitantes\")"
   ]
  },
  {
   "cell_type": "markdown",
   "id": "3525299e-8a21-4720-a9be-f9626c45bb0d",
   "metadata": {
    "tags": []
   },
   "source": [
    "2) Realice una gráfica de barras sobre la polbación de cada ciudad, ordenela de menor a mayo y responda:"
   ]
  },
  {
   "cell_type": "markdown",
   "id": "179c2ce2-b2bc-46c0-8be8-4092a503eeb4",
   "metadata": {
    "tags": []
   },
   "source": [
    "a. ¿Cuál es la segunda ciudad más poblada?\n",
    "R// La segunda ciudad más poblada es Barcelona \n",
    "b. ¿Qué posición ocupa Granada en el ranking de las ciudades más pobladas?\n",
    "R// El municipio de Granada es la posición 18 en el ranking."
   ]
  },
  {
   "cell_type": "code",
   "execution_count": 186,
   "id": "631bfb32-6151-4f5c-ad90-be7b86a770c6",
   "metadata": {
    "tags": []
   },
   "outputs": [
    {
     "data": {
      "image/png": "[encoded data removed]",
      "text/plain": [
       "<Figure size 1200x600 with 1 Axes>"
      ]
     },
     "metadata": {},
     "output_type": "display_data"
    }
   ],
   "source": [
    "cantidad = dataset.sort_values('Poblacion',ascending=False).head(20)\n",
    "cantidad\n",
    "\n",
    "plt.figure(figsize=(12, 6))\n",
    "plt.bar(cantidad['Municipio'], cantidad['Poblacion'], color='green', )\n",
    "plt.xlabel('Municipio')\n",
    "plt.ylabel('Poblacion')\n",
    "plt.title('Municipios con más población')\n",
    "plt.xticks(rotation=45, ha='right')\n",
    "plt.tight_layout()\n",
    "plt.show()"
   ]
  },
  {
   "cell_type": "markdown",
   "id": "d1c98c2a-5ae2-43d2-b09a-c301c1028e2f",
   "metadata": {},
   "source": [
    "3) ¿Cuántos municipios de Navarra tienen más de 5000 habitantes?"
   ]
  },
  {
   "cell_type": "code",
   "execution_count": 197,
   "id": "4603c575-82c0-4437-93c0-3627f19e0241",
   "metadata": {
    "tags": []
   },
   "outputs": [
    {
     "name": "stdout",
     "output_type": "stream",
     "text": [
      "R// Hay 11 municipios de la provincia de Navarra que tienen más de 5,000 habitantes.\n"
     ]
    }
   ],
   "source": [
    "provincia_navarra = dataset[(dataset['Poblacion'] >= 5000) & (dataset['Provincia'] == 'Navarra')]\n",
    "contar= len(provincia_navarra)\n",
    "print(f\"R// Hay {contar} municipios de la provincia de Navarra que tienen más de 5,000 habitantes.\")"
   ]
  },
  {
   "cell_type": "markdown",
   "id": "59c3d476-d0f4-4501-aa2c-eb03f08ab639",
   "metadata": {},
   "source": [
    "4) ¿Cuál es el municipio situado más al Norte? (Usar el valor de la coordenada \"Y\" que representa la latitud en grados). \n",
    "Proporcione también la provincia a la que pertenece y su población."
   ]
  },
  {
   "cell_type": "code",
   "execution_count": 226,
   "id": "46db2484-3d39-46e1-835f-c546dc1c290a",
   "metadata": {
    "tags": []
   },
   "outputs": [
    {
     "name": "stdout",
     "output_type": "stream",
     "text": [
      "El municipio más al norte es Viveiro perteneciente a la provincia de Lugo con una población de 16211.0\n"
     ]
    }
   ],
   "source": [
    "ciudad_norte = dataset.sort_values(by='Y', ascending=False).head(1)\n",
    "x = ciudad_norte[['Municipio','Provincia','Poblacion']]\n",
    "datos = np.array(x)\n",
    "print(f\"El municipio más al norte es {datos[0,0]} perteneciente a la provincia de {datos[0,1]} con una población de {datos[0,2]}\")"
   ]
  },
  {
   "cell_type": "markdown",
   "id": "531f8fc1-bacc-445b-934a-79ae5443cd1e",
   "metadata": {
    "tags": []
   },
   "source": [
    "5) Obtenga la media, mediana, desviación estándar, valor máximo y valor mínimo de la población de los municipios de la provincia de Granada."
   ]
  },
  {
   "cell_type": "code",
   "execution_count": 233,
   "id": "ae66ed9b-2574-45c2-a679-ee32c6569f84",
   "metadata": {
    "tags": []
   },
   "outputs": [
    {
     "name": "stdout",
     "output_type": "stream",
     "text": [
      "La media de habitantes de los municipios de la provincia de Granada es: 30217.85\n",
      "La mediana de habitantes de los municipios de la provincia de Granada es: 17526.0\n",
      "La desviación estándar de habitantes de los municipios de la provincia de Granada es: 50355.49171459277\n",
      "El valor maximo de habitantes de los municipios de la provincia de Granada es: 239154.0\n",
      "El valor minimo de habitantes de los municipios de la provincia de Granada es: 10386.0\n"
     ]
    }
   ],
   "source": [
    "provincia_granada = dataset[(dataset['Provincia'] == 'Granada')]\n",
    "\n",
    "media = provincia_granada['Poblacion'].mean()\n",
    "print(f\"La media de habitantes de los municipios de la provincia de Granada es: {media}\")\n",
    "\n",
    "mediana = provincia_granada['Poblacion'].median()\n",
    "print(f\"La mediana de habitantes de los municipios de la provincia de Granada es: {mediana}\")\n",
    "\n",
    "desv_est = provincia_granada['Poblacion'].std()\n",
    "print(f\"La desviación estándar de habitantes de los municipios de la provincia de Granada es: {desv_est}\")\n",
    "\n",
    "maximo = provincia_granada['Poblacion'].max()\n",
    "print(f\"El valor maximo de habitantes de los municipios de la provincia de Granada es: {maximo}\")\n",
    "\n",
    "minimo = provincia_granada['Poblacion'].min()\n",
    "print(f\"El valor minimo de habitantes de los municipios de la provincia de Granada es: {minimo}\")"
   ]
  },
  {
   "cell_type": "markdown",
   "id": "57275826-612a-4add-a291-f1f98ece4999",
   "metadata": {},
   "source": [
    "6) Realice un histograma con la población de los Municipios para cada una de las provincias."
   ]
  },
  {
   "cell_type": "code",
   "execution_count": 243,
   "id": "6ee7002c-7f6b-44ed-84b2-4e798e36fdb6",
   "metadata": {
    "tags": []
   },
   "outputs": [
    {
     "data": {
      "image/png": "[encoded data removed]",
      "text/plain": [
       "<Figure size 700x300 with 1 Axes>"
      ]
     },
     "metadata": {},
     "output_type": "display_data"
    }
   ],
   "source": [
    "plt.figure(figsize=(7,3))\n",
    "dataset['Poblacion'].hist(bins=30, density=True)\n",
    "plt.title(\"Poblacion - Density\")\n",
    "plt.xlabel(\"Poblacion\")\n",
    "plt.ylabel(\"Count\")\n",
    "plt.show()"
   ]
  },
  {
   "cell_type": "markdown",
   "id": "9e0b4d77-8dd8-471d-95da-ab69b9255aac",
   "metadata": {},
   "source": [
    "7) Seleccione al azar cincuenta municipios diferentes de entre los diponibles en el archivo. Asegúrese de que no se repitan. ¿Luego calcule el promedio de la población y la desviación estándar de esto 50 municipios?."
   ]
  },
  {
   "cell_type": "code",
   "execution_count": 286,
   "id": "57250ee8-9e96-4ad2-9b67-7c42237e49ed",
   "metadata": {
    "tags": []
   },
   "outputs": [
    {
     "data": {
      "text/plain": [
       "50"
      ]
     },
     "execution_count": 286,
     "metadata": {},
     "output_type": "execute_result"
    }
   ],
   "source": [
    "muestra = dataset.loc[np.random.randint(0, len(dataset['Municipio'].unique()), 50), ['Poblacion', 'Municipio']]\n",
    "len(muestra['Municipio'].unique())"
   ]
  },
  {
   "cell_type": "code",
   "execution_count": 287,
   "id": "f3004df7-fe9e-4f40-a136-7a6eacbea690",
   "metadata": {
    "tags": []
   },
   "outputs": [
    {
     "name": "stdout",
     "output_type": "stream",
     "text": [
      "La media de la población de los municipios seleccionados es: 30017.92\n",
      "La desviación estándar de la población de los municipios seleccionados es: 32493.386844182845\n"
     ]
    }
   ],
   "source": [
    "media_muestra = muestra['Poblacion'].mean()\n",
    "print(f\"La media de la población de los municipios seleccionados es: {media_muestra}\")\n",
    "\n",
    "desv_muestra = muestra['Poblacion'].std()\n",
    "print(f\"La desviación estándar de la población de los municipios seleccionados es: {desv_muestra}\")"
   ]
  },
  {
   "cell_type": "markdown",
   "id": "bf16706c-71ec-4ddd-9b98-87a5d6b1b73a",
   "metadata": {},
   "source": [
    "8) Determine los nombres de los Municipios más cercano y más lejano a Madrid. Para ello debe calcular la distancia en todos ellos y Madrid. No considere a Madrid en el análisis ya que la distancia sería cero."
   ]
  },
  {
   "cell_type": "code",
   "execution_count": 340,
   "id": "ff595d23-a5e6-4fbc-9bca-28882fab3642",
   "metadata": {
    "tags": []
   },
   "outputs": [],
   "source": [
    "dataset2 = dataset.drop(index = 355)\n",
    "x_madrid = -3.703797076\n",
    "y_madrid = 40.4166300011"
   ]
  },
  {
   "cell_type": "code",
   "execution_count": 341,
   "id": "fb5c9ed3-1d3e-4240-8201-c246daaed5a6",
   "metadata": {
    "tags": []
   },
   "outputs": [],
   "source": [
    "dataset2['Distancia'] = np.sqrt((dataset2['X'] - x_madrid)**2 + (dataset2['Y'] - y_madrid)**2)"
   ]
  },
  {
   "cell_type": "code",
   "execution_count": 346,
   "id": "acc0081a-80cf-43ce-b390-aaffa929313b",
   "metadata": {
    "tags": []
   },
   "outputs": [
    {
     "name": "stdout",
     "output_type": "stream",
     "text": [
      "El municipio más lejano al municipio de Madrid es Los Llanos de Aridane en la provincia de Santa Cruz de Tenerife\n",
      "El municipio más cercano al municipio de Madrid es Pozuelo de Alarcón en la provincia de Madrid\n"
     ]
    }
   ],
   "source": [
    "lejano = dataset2.sort_values(by='Distancia', ascending=False).head(1)\n",
    "municipio_lejano = np.array(lejano[['Municipio','Provincia']])\n",
    "\n",
    "cercano = dataset2.sort_values(by='Distancia', ascending=True).head(1)\n",
    "municipio_cercano = np.array(cercano[['Municipio','Provincia']])\n",
    "\n",
    "print(f\"El municipio más lejano al municipio de Madrid es {municipio_lejano[0,0]} en la provincia de {municipio_lejano[0,1]}\")\n",
    "print(f\"El municipio más cercano al municipio de Madrid es {municipio_cercano[0,0]} en la provincia de {municipio_cercano[0,1]}\")"
   ]
  }
 ],
 "metadata": {
  "kernelspec": {
   "display_name": "Python 3 (ipykernel)",
   "language": "python",
   "name": "python3"
  },
  "language_info": {
   "codemirror_mode": {
    "name": "ipython",
    "version": 3
   },
   "file_extension": ".py",
   "mimetype": "text/x-python",
   "name": "python",
   "nbconvert_exporter": "python",
   "pygments_lexer": "ipython3",
   "version": "3.11.5"
  }
 },
 "nbformat": 4,
 "nbformat_minor": 5
}
